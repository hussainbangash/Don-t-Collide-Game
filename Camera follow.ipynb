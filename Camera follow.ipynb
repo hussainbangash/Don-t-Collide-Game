{
 "cells": [
  {
   "cell_type": "code",
   "execution_count": null,
   "metadata": {
    "collapsed": true
   },
   "outputs": [],
   "source": [
    "using System.Collections;\n",
    "using System.Collections.Generic;\n",
    "using UnityEngine;\n",
    "\n",
    "public class CameraFollow : MonoBehaviour {\n",
    "\n",
    "\tpublic Transform target;\n",
    "\tpublic float smoothing = 5f;\n",
    "\n",
    "\tVector3 offset ; \n",
    "\n",
    "\n",
    "\tvoid Start () {\n",
    "\t\toffset = transform.position - target.position; \n",
    "\t}\n",
    "    // this function will make the camera follow the ball with a little delay\n",
    "\tvoid FixedUpdate () {\n",
    "\t\tVector3 TargetCamPos = target.position + offset;\n",
    "\t\ttransform.position = Vector3.Lerp(transform.position, TargetCamPos, smoothing*Time.deltaTime); \n",
    "\t}\n",
    "}\n"
   ]
  }
 ],
 "metadata": {
  "kernelspec": {
   "display_name": "C#",
   "language": "csharp",
   "name": "icsharpkernel"
  },
  "language": "csharp"
 },
 "nbformat": 4,
 "nbformat_minor": 2
}
