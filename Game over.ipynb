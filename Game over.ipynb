{
 "cells": [
  {
   "cell_type": "code",
   "execution_count": null,
   "metadata": {
    "collapsed": true
   },
   "outputs": [],
   "source": [
    "using System.Collections;\n",
    "using System.Collections.Generic;\n",
    "using UnityEngine;\n",
    "using UnityEngine.UI;\n",
    "using UnityEngine.SceneManagement;\n",
    "public class GameOver : MonoBehaviour {\n",
    "\n",
    "    public Canvas gameOverPanel;\n",
    "    public int levelToLoad;\n",
    "\n",
    "\tvoid Start()\n",
    "\t{\n",
    "        // this is to run the game first\n",
    "\t\tTime.timeScale = 1;\n",
    "\t}\n",
    "\n",
    "    // this function is called when the ball collides with the wall\n",
    "    void OnTriggerEnter(Collider other)\n",
    "    {\n",
    "        if(other.tag == \"wall\")\n",
    "        {\n",
    "            // this will make the gameover panel condition true and gameover panel will appear\n",
    "            gameOverPanel.gameObject.SetActive(true);\n",
    "\t\t\tTime.timeScale = 0;\n",
    "        }\n",
    "    }\n",
    "\t\n",
    "    // this is a restart button which when clicked will load the same level\n",
    "    public void Restart()\n",
    "    {\n",
    "        Application.LoadLevel(levelToLoad);\n",
    "    }\n",
    "}\n"
   ]
  }
 ],
 "metadata": {
  "kernelspec": {
   "display_name": "C#",
   "language": "csharp",
   "name": "icsharpkernel"
  },
  "language": "csharp"
 },
 "nbformat": 4,
 "nbformat_minor": 2
}
