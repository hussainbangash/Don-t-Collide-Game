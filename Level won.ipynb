{
 "cells": [
  {
   "cell_type": "code",
   "execution_count": null,
   "metadata": {
    "collapsed": true
   },
   "outputs": [],
   "source": [
    "using System.Collections;\n",
    "using System.Collections.Generic;\n",
    "using UnityEngine;\n",
    "using UnityEngine.UI;\n",
    "using UnityEngine.SceneManagement;\n",
    "\n",
    "public class LevelWon : MonoBehaviour {\n",
    "\n",
    "    public Canvas win;\n",
    "    public Image joystick1 ;\n",
    "    public int levelToLoad;\n",
    "\n",
    "\tvoid Start () {\n",
    "\t\t\n",
    "\t}\n",
    "\t\n",
    "\t// Update is called once per frame\n",
    "\tvoid Update () {\n",
    "\t\t\n",
    "\t}\n",
    "\n",
    "    // this function is called when the ball crosses the finish line\n",
    "    void OnTriggerEnter(Collider other)\n",
    "    {\n",
    "        if (other.tag == \"Player\")\n",
    "        {\n",
    "            // if the ball crosses the finish line then next level is loaded\n",
    "            Application.LoadLevel(levelToLoad);\n",
    "        }\n",
    "    }\n",
    "}\n"
   ]
  }
 ],
 "metadata": {
  "kernelspec": {
   "display_name": "C#",
   "language": "csharp",
   "name": "icsharpkernel"
  },
  "language": "csharp"
 },
 "nbformat": 4,
 "nbformat_minor": 2
}
