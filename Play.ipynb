{
 "cells": [
  {
   "cell_type": "code",
   "execution_count": null,
   "metadata": {
    "collapsed": true
   },
   "outputs": [],
   "source": [
    "using System.Collections;\n",
    "using System.Collections.Generic;\n",
    "using UnityEngine;\n",
    "using UnityEngine.SceneManagement;\n",
    "\n",
    "public class SeasonMgr : MonoBehaviour {\n",
    "\n",
    "    // this is the play button that willdiect the player to first level\n",
    "    public void playGame()\n",
    "    {\n",
    "        Application.LoadLevel(1);\n",
    "    }\n",
    "\n",
    "}\n"
   ]
  }
 ],
 "metadata": {
  "kernelspec": {
   "display_name": "C#",
   "language": "csharp",
   "name": "icsharpkernel"
  },
  "language": "csharp"
 },
 "nbformat": 4,
 "nbformat_minor": 2
}
