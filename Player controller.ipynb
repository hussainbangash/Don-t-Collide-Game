{
 "cells": [
  {
   "cell_type": "code",
   "execution_count": null,
   "metadata": {
    "collapsed": true
   },
   "outputs": [],
   "source": [
    "using System.Collections;\n",
    "using System.Collections.Generic;\n",
    "using UnityEngine;\n",
    "using UnityEngine.UI;\n",
    "\n",
    "public class PlayerController : MonoBehaviour {\n",
    "\n",
    "\n",
    "\tpublic float MoveSpeed = 6f; // this is the movespeed\n",
    "\tpublic float TurnSpeed;\n",
    "\n",
    "\tvoid Start()\n",
    "\t{\n",
    "\t}\n",
    "    // this function updates code per frame so we will write the balls movement code in it so that the baall can move freely\n",
    "    void Update () {\n",
    "        \n",
    "\t\tif (Input.GetKey (KeyCode.W)) {\n",
    "            // this is to make the ball move forward as player presses W\n",
    "\t\t\ttransform.Translate (Vector3.forward * MoveSpeed * Time.deltaTime);\n",
    "\t\t}\n",
    "\n",
    "\t\tif (Input.GetKey (KeyCode.S)) {\n",
    "            // this is to make the ball move backward as player presses S\n",
    "\t\t\ttransform.Translate (-Vector3.forward * MoveSpeed * Time.deltaTime);\n",
    "           \n",
    "\t\t}\n",
    "\t\tif (Input.GetKey (KeyCode.A)) {\n",
    "            // this is to make the ball move left as player presses A\n",
    "\t\t\ttransform.Translate (Vector3.left * TurnSpeed * Time.deltaTime);\n",
    "           \n",
    "        }\n",
    "\t\tif (Input.GetKey (KeyCode.D)) {\n",
    "            // this is to make the ball move right as player presses D\n",
    "            transform.Translate (Vector3.right * TurnSpeed * Time.deltaTime);\n",
    "\t\t\n",
    "        }\n",
    "\n",
    "\t}\n",
    "}"
   ]
  }
 ],
 "metadata": {
  "kernelspec": {
   "display_name": "C#",
   "language": "csharp",
   "name": "icsharpkernel"
  },
  "language": "csharp"
 },
 "nbformat": 4,
 "nbformat_minor": 2
}
