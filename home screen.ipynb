{
 "cells": [
  {
   "cell_type": "code",
   "execution_count": null,
   "metadata": {
    "collapsed": true
   },
   "outputs": [],
   "source": [
    "using System.Collections;\n",
    "using System.Collections.Generic;\n",
    "using UnityEngine;\n",
    "using UnityEngine.SceneManagement;\n",
    "\n",
    "public class SeasonMgr : MonoBehaviour {\n",
    "\n",
    "\t// Use this for initialization\n",
    "\tvoid Start () {\n",
    "\t}\n",
    "\t\n",
    "\t// Update is called once per frame\n",
    "\tvoid Update () {\n",
    "\t}\n",
    "    \n",
    "    // This function is to load the home screen of the game\n",
    "    public void playGame()\n",
    "    {\n",
    "        Application.LoadLevel(1);\n",
    "    }\n",
    "\n",
    "}"
   ]
  }
 ],
 "metadata": {
  "kernelspec": {
   "display_name": "C#",
   "language": "csharp",
   "name": "icsharpkernel"
  },
  "language": "csharp"
 },
 "nbformat": 4,
 "nbformat_minor": 2
}
